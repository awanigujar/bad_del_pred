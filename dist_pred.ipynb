{
 "cells": [
  {
   "cell_type": "code",
   "execution_count": 1,
   "id": "45b5f587",
   "metadata": {},
   "outputs": [],
   "source": [
    "#import libraries\n",
    "import pandas as pd\n",
    "import numpy as np\n",
    "from sklearn.model_selection import train_test_split\n",
    "from sklearn.model_selection import GridSearchCV\n",
    "from sklearn.tree import DecisionTreeRegressor\n",
    "from sklearn.metrics import mean_squared_error as mse\n",
    "from sklearn.metrics import mean_absolute_error as mae\n",
    "from sklearn.metrics import r2_score as rsc\n",
    "from sklearn import preprocessing \n",
    "import matplotlib.pyplot as plt\n",
    "import seaborn as sns\n",
    "from sklearn.ensemble import RandomForestRegressor"
   ]
  },
  {
   "cell_type": "code",
   "execution_count": 2,
   "id": "0f07c787",
   "metadata": {},
   "outputs": [],
   "source": [
    "#read json file\n",
    "df = pd.read_json('location_task_no_nulls.json')"
   ]
  },
  {
   "cell_type": "code",
   "execution_count": 3,
   "id": "b9e43acc",
   "metadata": {},
   "outputs": [
    {
     "data": {
      "text/html": [
       "<div>\n",
       "<style scoped>\n",
       "    .dataframe tbody tr th:only-of-type {\n",
       "        vertical-align: middle;\n",
       "    }\n",
       "\n",
       "    .dataframe tbody tr th {\n",
       "        vertical-align: top;\n",
       "    }\n",
       "\n",
       "    .dataframe thead th {\n",
       "        text-align: right;\n",
       "    }\n",
       "</style>\n",
       "<table border=\"1\" class=\"dataframe\">\n",
       "  <thead>\n",
       "    <tr style=\"text-align: right;\">\n",
       "      <th></th>\n",
       "      <th>order_id</th>\n",
       "      <th>order_value</th>\n",
       "      <th>order_items_count</th>\n",
       "      <th>customer_id</th>\n",
       "      <th>created_timestamp_local</th>\n",
       "      <th>has_instruction</th>\n",
       "      <th>logistics_dropoff_distance</th>\n",
       "      <th>delivery_postal_code</th>\n",
       "      <th>delivery_geohash_precision8</th>\n",
       "      <th>has_phone_number</th>\n",
       "      <th>has_call_instruction</th>\n",
       "      <th>has_leave_instruction</th>\n",
       "      <th>has_lift_instruction</th>\n",
       "      <th>has_lobby_instruction</th>\n",
       "      <th>has_gate_instruction</th>\n",
       "      <th>has_knock_instruction</th>\n",
       "      <th>has_bell_instruction</th>\n",
       "    </tr>\n",
       "  </thead>\n",
       "  <tbody>\n",
       "    <tr>\n",
       "      <th>618</th>\n",
       "      <td>b8ds-tqhf</td>\n",
       "      <td>40.44</td>\n",
       "      <td>10</td>\n",
       "      <td>h6huq0td</td>\n",
       "      <td>2021-03-11T20:19:50</td>\n",
       "      <td>True</td>\n",
       "      <td>58.656138</td>\n",
       "      <td>828868</td>\n",
       "      <td>w23bh248</td>\n",
       "      <td>False</td>\n",
       "      <td>False</td>\n",
       "      <td>False</td>\n",
       "      <td>False</td>\n",
       "      <td>False</td>\n",
       "      <td>False</td>\n",
       "      <td>False</td>\n",
       "      <td>False</td>\n",
       "    </tr>\n",
       "    <tr>\n",
       "      <th>619</th>\n",
       "      <td>x5xx-j2d2</td>\n",
       "      <td>35.60</td>\n",
       "      <td>10</td>\n",
       "      <td>t2nod4rq</td>\n",
       "      <td>2021-03-12T18:42:48</td>\n",
       "      <td>True</td>\n",
       "      <td>39.025148</td>\n",
       "      <td>530548</td>\n",
       "      <td>w21zu55k</td>\n",
       "      <td>False</td>\n",
       "      <td>False</td>\n",
       "      <td>False</td>\n",
       "      <td>False</td>\n",
       "      <td>False</td>\n",
       "      <td>False</td>\n",
       "      <td>False</td>\n",
       "      <td>False</td>\n",
       "    </tr>\n",
       "    <tr>\n",
       "      <th>620</th>\n",
       "      <td>x6qu-14kt</td>\n",
       "      <td>42.49</td>\n",
       "      <td>12</td>\n",
       "      <td>m4ycd3tm</td>\n",
       "      <td>2021-03-27T11:29:17</td>\n",
       "      <td>True</td>\n",
       "      <td>40.067811</td>\n",
       "      <td>650248</td>\n",
       "      <td>w21z9jc4</td>\n",
       "      <td>False</td>\n",
       "      <td>False</td>\n",
       "      <td>True</td>\n",
       "      <td>False</td>\n",
       "      <td>False</td>\n",
       "      <td>False</td>\n",
       "      <td>False</td>\n",
       "      <td>False</td>\n",
       "    </tr>\n",
       "    <tr>\n",
       "      <th>621</th>\n",
       "      <td>x3yw-rhc5</td>\n",
       "      <td>14.40</td>\n",
       "      <td>11</td>\n",
       "      <td>sgmnf9sb</td>\n",
       "      <td>2021-03-02T22:08:52</td>\n",
       "      <td>True</td>\n",
       "      <td>44.986785</td>\n",
       "      <td>550105</td>\n",
       "      <td>w21zg97y</td>\n",
       "      <td>False</td>\n",
       "      <td>False</td>\n",
       "      <td>False</td>\n",
       "      <td>False</td>\n",
       "      <td>False</td>\n",
       "      <td>False</td>\n",
       "      <td>False</td>\n",
       "      <td>False</td>\n",
       "    </tr>\n",
       "    <tr>\n",
       "      <th>622</th>\n",
       "      <td>y9zp-58q7</td>\n",
       "      <td>38.15</td>\n",
       "      <td>10</td>\n",
       "      <td>x4rvv3iy</td>\n",
       "      <td>2021-03-23T20:35:26</td>\n",
       "      <td>True</td>\n",
       "      <td>71.520828</td>\n",
       "      <td>102112</td>\n",
       "      <td>w21z61q6</td>\n",
       "      <td>False</td>\n",
       "      <td>False</td>\n",
       "      <td>False</td>\n",
       "      <td>False</td>\n",
       "      <td>False</td>\n",
       "      <td>False</td>\n",
       "      <td>False</td>\n",
       "      <td>False</td>\n",
       "    </tr>\n",
       "  </tbody>\n",
       "</table>\n",
       "</div>"
      ],
      "text/plain": [
       "      order_id  order_value  order_items_count customer_id  \\\n",
       "618  b8ds-tqhf        40.44                 10    h6huq0td   \n",
       "619  x5xx-j2d2        35.60                 10    t2nod4rq   \n",
       "620  x6qu-14kt        42.49                 12    m4ycd3tm   \n",
       "621  x3yw-rhc5        14.40                 11    sgmnf9sb   \n",
       "622  y9zp-58q7        38.15                 10    x4rvv3iy   \n",
       "\n",
       "    created_timestamp_local  has_instruction  logistics_dropoff_distance  \\\n",
       "618     2021-03-11T20:19:50             True                   58.656138   \n",
       "619     2021-03-12T18:42:48             True                   39.025148   \n",
       "620     2021-03-27T11:29:17             True                   40.067811   \n",
       "621     2021-03-02T22:08:52             True                   44.986785   \n",
       "622     2021-03-23T20:35:26             True                   71.520828   \n",
       "\n",
       "    delivery_postal_code delivery_geohash_precision8  has_phone_number  \\\n",
       "618               828868                    w23bh248             False   \n",
       "619               530548                    w21zu55k             False   \n",
       "620               650248                    w21z9jc4             False   \n",
       "621               550105                    w21zg97y             False   \n",
       "622               102112                    w21z61q6             False   \n",
       "\n",
       "     has_call_instruction  has_leave_instruction  has_lift_instruction  \\\n",
       "618                 False                  False                 False   \n",
       "619                 False                  False                 False   \n",
       "620                 False                   True                 False   \n",
       "621                 False                  False                 False   \n",
       "622                 False                  False                 False   \n",
       "\n",
       "     has_lobby_instruction  has_gate_instruction  has_knock_instruction  \\\n",
       "618                  False                 False                  False   \n",
       "619                  False                 False                  False   \n",
       "620                  False                 False                  False   \n",
       "621                  False                 False                  False   \n",
       "622                  False                 False                  False   \n",
       "\n",
       "     has_bell_instruction  \n",
       "618                 False  \n",
       "619                 False  \n",
       "620                 False  \n",
       "621                 False  \n",
       "622                 False  "
      ]
     },
     "execution_count": 3,
     "metadata": {},
     "output_type": "execute_result"
    }
   ],
   "source": [
    "df.head()"
   ]
  },
  {
   "cell_type": "code",
   "execution_count": 4,
   "id": "e5f78c98",
   "metadata": {},
   "outputs": [],
   "source": [
    "#copy to another dataframe so that original data remain intact\n",
    "delivery = df"
   ]
  },
  {
   "cell_type": "markdown",
   "id": "e55bac54",
   "metadata": {},
   "source": [
    "#### Explorig data"
   ]
  },
  {
   "cell_type": "code",
   "execution_count": 5,
   "id": "29e49d99",
   "metadata": {
    "scrolled": true
   },
   "outputs": [
    {
     "data": {
      "text/html": [
       "<div>\n",
       "<style scoped>\n",
       "    .dataframe tbody tr th:only-of-type {\n",
       "        vertical-align: middle;\n",
       "    }\n",
       "\n",
       "    .dataframe tbody tr th {\n",
       "        vertical-align: top;\n",
       "    }\n",
       "\n",
       "    .dataframe thead th {\n",
       "        text-align: right;\n",
       "    }\n",
       "</style>\n",
       "<table border=\"1\" class=\"dataframe\">\n",
       "  <thead>\n",
       "    <tr style=\"text-align: right;\">\n",
       "      <th></th>\n",
       "      <th>order_value</th>\n",
       "      <th>order_items_count</th>\n",
       "      <th>logistics_dropoff_distance</th>\n",
       "    </tr>\n",
       "  </thead>\n",
       "  <tbody>\n",
       "    <tr>\n",
       "      <th>count</th>\n",
       "      <td>2.593799e+06</td>\n",
       "      <td>2.593799e+06</td>\n",
       "      <td>2.593799e+06</td>\n",
       "    </tr>\n",
       "    <tr>\n",
       "      <th>mean</th>\n",
       "      <td>2.107854e+01</td>\n",
       "      <td>2.607097e+00</td>\n",
       "      <td>9.353974e+01</td>\n",
       "    </tr>\n",
       "    <tr>\n",
       "      <th>std</th>\n",
       "      <td>1.600306e+01</td>\n",
       "      <td>1.975311e+00</td>\n",
       "      <td>1.652489e+04</td>\n",
       "    </tr>\n",
       "    <tr>\n",
       "      <th>min</th>\n",
       "      <td>0.000000e+00</td>\n",
       "      <td>1.000000e+00</td>\n",
       "      <td>0.000000e+00</td>\n",
       "    </tr>\n",
       "    <tr>\n",
       "      <th>25%</th>\n",
       "      <td>1.150000e+01</td>\n",
       "      <td>1.000000e+00</td>\n",
       "      <td>2.167244e+01</td>\n",
       "    </tr>\n",
       "    <tr>\n",
       "      <th>50%</th>\n",
       "      <td>1.675000e+01</td>\n",
       "      <td>2.000000e+00</td>\n",
       "      <td>3.798452e+01</td>\n",
       "    </tr>\n",
       "    <tr>\n",
       "      <th>75%</th>\n",
       "      <td>2.515000e+01</td>\n",
       "      <td>3.000000e+00</td>\n",
       "      <td>6.368662e+01</td>\n",
       "    </tr>\n",
       "    <tr>\n",
       "      <th>max</th>\n",
       "      <td>8.723500e+02</td>\n",
       "      <td>6.100000e+01</td>\n",
       "      <td>1.532825e+07</td>\n",
       "    </tr>\n",
       "  </tbody>\n",
       "</table>\n",
       "</div>"
      ],
      "text/plain": [
       "        order_value  order_items_count  logistics_dropoff_distance\n",
       "count  2.593799e+06       2.593799e+06                2.593799e+06\n",
       "mean   2.107854e+01       2.607097e+00                9.353974e+01\n",
       "std    1.600306e+01       1.975311e+00                1.652489e+04\n",
       "min    0.000000e+00       1.000000e+00                0.000000e+00\n",
       "25%    1.150000e+01       1.000000e+00                2.167244e+01\n",
       "50%    1.675000e+01       2.000000e+00                3.798452e+01\n",
       "75%    2.515000e+01       3.000000e+00                6.368662e+01\n",
       "max    8.723500e+02       6.100000e+01                1.532825e+07"
      ]
     },
     "execution_count": 5,
     "metadata": {},
     "output_type": "execute_result"
    }
   ],
   "source": [
    "delivery.describe()"
   ]
  },
  {
   "cell_type": "code",
   "execution_count": 6,
   "id": "f7645c4b",
   "metadata": {},
   "outputs": [],
   "source": [
    "# encoding the categorical variables\n",
    "label = preprocessing.LabelEncoder()\n",
    "delivery['has_instruction']= label.fit_transform(delivery['has_instruction']) \n",
    "delivery['has_phone_number']= label.fit_transform(delivery['has_phone_number'])\n",
    "delivery['has_call_instruction']= label.fit_transform(delivery['has_call_instruction'])\n",
    "delivery['has_leave_instruction']= label.fit_transform(delivery['has_leave_instruction'])\n",
    "delivery['has_lift_instruction']= label.fit_transform(delivery['has_lift_instruction'])\n",
    "delivery['has_lobby_instruction']= label.fit_transform(delivery['has_lobby_instruction'])\n",
    "delivery['has_gate_instruction']= label.fit_transform(delivery['has_gate_instruction'])\n",
    "delivery['has_knock_instruction']= label.fit_transform(delivery['has_knock_instruction'])\n",
    "delivery['has_bell_instruction']= label.fit_transform(delivery['has_bell_instruction'])"
   ]
  },
  {
   "cell_type": "code",
   "execution_count": 7,
   "id": "b3376c18",
   "metadata": {},
   "outputs": [
    {
     "name": "stdout",
     "output_type": "stream",
     "text": [
      "order_id                       0\n",
      "order_value                    0\n",
      "order_items_count              0\n",
      "customer_id                    0\n",
      "created_timestamp_local        0\n",
      "has_instruction                0\n",
      "logistics_dropoff_distance     0\n",
      "delivery_postal_code           0\n",
      "delivery_geohash_precision8    0\n",
      "has_phone_number               0\n",
      "has_call_instruction           0\n",
      "has_leave_instruction          0\n",
      "has_lift_instruction           0\n",
      "has_lobby_instruction          0\n",
      "has_gate_instruction           0\n",
      "has_knock_instruction          0\n",
      "has_bell_instruction           0\n",
      "dtype: int64\n"
     ]
    }
   ],
   "source": [
    "#checking for nulls\n",
    "print (delivery.isnull().sum())"
   ]
  },
  {
   "cell_type": "code",
   "execution_count": 8,
   "id": "ab27e252",
   "metadata": {},
   "outputs": [
    {
     "data": {
      "text/plain": [
       "order_id                       0\n",
       "order_value                    0\n",
       "order_items_count              0\n",
       "customer_id                    0\n",
       "created_timestamp_local        0\n",
       "has_instruction                0\n",
       "logistics_dropoff_distance     0\n",
       "delivery_postal_code           0\n",
       "delivery_geohash_precision8    0\n",
       "has_phone_number               0\n",
       "has_call_instruction           0\n",
       "has_leave_instruction          0\n",
       "has_lift_instruction           0\n",
       "has_lobby_instruction          0\n",
       "has_gate_instruction           0\n",
       "has_knock_instruction          0\n",
       "has_bell_instruction           0\n",
       "dtype: int64"
      ]
     },
     "execution_count": 8,
     "metadata": {},
     "output_type": "execute_result"
    }
   ],
   "source": [
    "#some null values found in postal code\n",
    "delivery.isna().sum()"
   ]
  },
  {
   "cell_type": "code",
   "execution_count": 9,
   "id": "c860e4e3",
   "metadata": {},
   "outputs": [
    {
     "data": {
      "text/plain": [
       "47891"
      ]
     },
     "execution_count": 9,
     "metadata": {},
     "output_type": "execute_result"
    }
   ],
   "source": [
    "#unique postal code\n",
    "len(delivery['delivery_postal_code'].unique())"
   ]
  },
  {
   "cell_type": "code",
   "execution_count": 10,
   "id": "5477a9c7",
   "metadata": {},
   "outputs": [
    {
     "data": {
      "text/plain": [
       "61"
      ]
     },
     "execution_count": 10,
     "metadata": {},
     "output_type": "execute_result"
    }
   ],
   "source": [
    "# maximum order item count\n",
    "delivery['order_items_count'].max()"
   ]
  },
  {
   "cell_type": "code",
   "execution_count": 11,
   "id": "ae09a998",
   "metadata": {},
   "outputs": [
    {
     "data": {
      "image/png": "[encoded data removed]",
      "text/plain": [
       "<Figure size 432x288 with 1 Axes>"
      ]
     },
     "metadata": {},
     "output_type": "display_data"
    }
   ],
   "source": [
    "\n",
    "import seaborn as sns\n",
    "sns.set_theme(style=\"whitegrid\")\n",
    "ax = sns.boxplot(x=delivery[\"logistics_dropoff_distance\"])"
   ]
  },
  {
   "cell_type": "code",
   "execution_count": 12,
   "id": "067d7410",
   "metadata": {},
   "outputs": [],
   "source": [
    "# Outlier detection function < and > than -+ 1.5 IQR \n",
    "\n",
    "def filter_outlier(ol):\n",
    "    Q1 = ol.quantile(0.35)\n",
    "    Q3 = ol.quantile(0.70)\n",
    "    IQR = Q3-Q1\n",
    "    newdf = ol[~((ol < (Q1 - 1.5* IQR)) |(ol > (Q3 + 1.5 * IQR))).any(axis=1)]\n",
    "    return newdf"
   ]
  },
  {
   "cell_type": "code",
   "execution_count": 13,
   "id": "771c88c8",
   "metadata": {},
   "outputs": [],
   "source": [
    "# drop outliers for drop-off distance\n",
    "remove_outlier = filter_outlier(delivery[['logistics_dropoff_distance']])"
   ]
  },
  {
   "cell_type": "code",
   "execution_count": 14,
   "id": "520b35e0",
   "metadata": {},
   "outputs": [],
   "source": [
    "mask = delivery.index.intersection(remove_outlier.index)"
   ]
  },
  {
   "cell_type": "code",
   "execution_count": 15,
   "id": "02e4a871",
   "metadata": {},
   "outputs": [],
   "source": [
    "delivery = delivery.loc[mask]"
   ]
  },
  {
   "cell_type": "code",
   "execution_count": 16,
   "id": "cd0877bf",
   "metadata": {},
   "outputs": [
    {
     "data": {
      "text/plain": [
       "<AxesSubplot:>"
      ]
     },
     "execution_count": 16,
     "metadata": {},
     "output_type": "execute_result"
    },
    {
     "data": {
      "image/png": "[encoded data removed]",
      "text/plain": [
       "<Figure size 1440x720 with 2 Axes>"
      ]
     },
     "metadata": {},
     "output_type": "display_data"
    }
   ],
   "source": [
    "#Observed some correlation between order count and order value. But no significant correlation with logistic_dropoff_distance\n",
    "cor_d = delivery[[\"order_value\", \"order_items_count\", \"logistics_dropoff_distance\"]]\n",
    "\n",
    "cor_mat= cor_d.corr()\n",
    "mask = np.array(cor_mat)\n",
    "mask[np.tril_indices_from(mask)] = False\n",
    "fig=plt.gcf()\n",
    "fig.set_size_inches(20,10)\n",
    "sns.heatmap(data=cor_mat, mask=mask, square=True, annot=True, cbar=True)"
   ]
  },
  {
   "cell_type": "code",
   "execution_count": 17,
   "id": "a5992554",
   "metadata": {},
   "outputs": [],
   "source": [
    "# delivery_geohash_precision8 is difficult to categorise , hence converted to geohash precision level of 5 \n",
    "delivery['delivery_geohash_precision5'] = delivery['delivery_geohash_precision8'].str[:5]"
   ]
  },
  {
   "cell_type": "code",
   "execution_count": 18,
   "id": "534a9141",
   "metadata": {},
   "outputs": [
    {
     "data": {
      "text/plain": [
       "37"
      ]
     },
     "execution_count": 18,
     "metadata": {},
     "output_type": "execute_result"
    }
   ],
   "source": [
    "len(delivery['delivery_geohash_precision5'].unique())"
   ]
  },
  {
   "cell_type": "code",
   "execution_count": 19,
   "id": "38489e57",
   "metadata": {},
   "outputs": [],
   "source": [
    "delivery['delivery_geohash_precision5']= label.fit_transform(delivery['delivery_geohash_precision5']) "
   ]
  },
  {
   "cell_type": "code",
   "execution_count": 20,
   "id": "fd2d0c3d",
   "metadata": {},
   "outputs": [
    {
     "data": {
      "text/plain": [
       "618        36\n",
       "619        25\n",
       "620        13\n",
       "621        19\n",
       "622        10\n",
       "           ..\n",
       "2964434    32\n",
       "2964435    32\n",
       "2964436    24\n",
       "2964437    32\n",
       "2964438    11\n",
       "Name: delivery_geohash_precision5, Length: 2323583, dtype: int32"
      ]
     },
     "execution_count": 20,
     "metadata": {},
     "output_type": "execute_result"
    }
   ],
   "source": [
    "delivery['delivery_geohash_precision5']"
   ]
  },
  {
   "cell_type": "code",
   "execution_count": 21,
   "id": "d93fbbfe",
   "metadata": {},
   "outputs": [],
   "source": [
    "# assigned independent and target variable\n",
    "X = delivery[['has_instruction', 'has_phone_number', 'has_call_instruction', 'has_leave_instruction', \n",
    "              'has_lift_instruction', 'has_lobby_instruction', 'has_gate_instruction', 'has_knock_instruction', \n",
    "              'has_bell_instruction', 'order_value', 'order_items_count', 'delivery_geohash_precision5']]\n",
    "\n",
    "y = delivery[\"logistics_dropoff_distance\"]"
   ]
  },
  {
   "cell_type": "code",
   "execution_count": 22,
   "id": "01f4d5eb",
   "metadata": {},
   "outputs": [],
   "source": [
    "# train-test split\n",
    "X_train, X_test, y_train, y_test = train_test_split(X, y, test_size=0.25, random_state=42)"
   ]
  },
  {
   "cell_type": "code",
   "execution_count": 23,
   "id": "9e687d4d",
   "metadata": {},
   "outputs": [
    {
     "name": "stdout",
     "output_type": "stream",
     "text": [
      "Fitting 2 folds for each of 144 candidates, totalling 288 fits\n",
      "[CV 1/2] END max_depth=50, max_features=sqrt, max_leaf_nodes=5, min_samples_leaf=3, splitter=best;, score=0.001 total time=   0.6s\n",
      "[CV 2/2] END max_depth=50, max_features=sqrt, max_leaf_nodes=5, min_samples_leaf=3, splitter=best;, score=0.000 total time=   0.5s\n",
      "[CV 1/2] END max_depth=50, max_features=sqrt, max_leaf_nodes=5, min_samples_leaf=3, splitter=random;, score=0.001 total time=   0.5s\n",
      "[CV 2/2] END max_depth=50, max_features=sqrt, max_leaf_nodes=5, min_samples_leaf=3, splitter=random;, score=0.000 total time=   0.5s\n",
      "[CV 1/2] END max_depth=50, max_features=sqrt, max_leaf_nodes=5, min_samples_leaf=4, splitter=best;, score=0.002 total time=   0.8s\n",
      "[CV 2/2] END max_depth=50, max_features=sqrt, max_leaf_nodes=5, min_samples_leaf=4, splitter=best;, score=0.001 total time=   0.7s\n",
      "[CV 1/2] END max_depth=50, max_features=sqrt, max_leaf_nodes=5, min_samples_leaf=4, splitter=random;, score=0.001 total time=   0.6s\n",
      "[CV 2/2] END max_depth=50, max_features=sqrt, max_leaf_nodes=5, min_samples_leaf=4, splitter=random;, score=0.001 total time=   0.5s\n",
      "[CV 1/2] END max_depth=50, max_features=sqrt, max_leaf_nodes=5, min_samples_leaf=5, splitter=best;, score=0.001 total time=   0.7s\n",
      "[CV 2/2] END max_depth=50, max_features=sqrt, max_leaf_nodes=5, min_samples_leaf=5, splitter=best;, score=0.001 total time=   0.5s\n",
      "[CV 1/2] END max_depth=50, max_features=sqrt, max_leaf_nodes=5, min_samples_leaf=5, splitter=random;, score=0.001 total time=   0.3s\n",
      "[CV 2/2] END max_depth=50, max_features=sqrt, max_leaf_nodes=5, min_samples_leaf=5, splitter=random;, score=0.001 total time=   0.4s\n",
      "[CV 1/2] END max_depth=50, max_features=sqrt, max_leaf_nodes=8, min_samples_leaf=3, splitter=best;, score=0.002 total time=   0.5s\n",
      "[CV 2/2] END max_depth=50, max_features=sqrt, max_leaf_nodes=8, min_samples_leaf=3, splitter=best;, score=0.001 total time=   0.5s\n",
      "[CV 1/2] END max_depth=50, max_features=sqrt, max_leaf_nodes=8, min_samples_leaf=3, splitter=random;, score=0.001 total time=   0.5s\n",
      "[CV 2/2] END max_depth=50, max_features=sqrt, max_leaf_nodes=8, min_samples_leaf=3, splitter=random;, score=0.001 total time=   0.4s\n",
      "[CV 1/2] END max_depth=50, max_features=sqrt, max_leaf_nodes=8, min_samples_leaf=4, splitter=best;, score=0.002 total time=   0.7s\n",
      "[CV 2/2] END max_depth=50, max_features=sqrt, max_leaf_nodes=8, min_samples_leaf=4, splitter=best;, score=0.001 total time=   0.5s\n",
      "[CV 1/2] END max_depth=50, max_features=sqrt, max_leaf_nodes=8, min_samples_leaf=4, splitter=random;, score=0.001 total time=   0.4s\n",
      "[CV 2/2] END max_depth=50, max_features=sqrt, max_leaf_nodes=8, min_samples_leaf=4, splitter=random;, score=0.001 total time=   0.4s\n",
      "[CV 1/2] END max_depth=50, max_features=sqrt, max_leaf_nodes=8, min_samples_leaf=5, splitter=best;, score=0.001 total time=   0.5s\n",
      "[CV 2/2] END max_depth=50, max_features=sqrt, max_leaf_nodes=8, min_samples_leaf=5, splitter=best;, score=0.001 total time=   0.6s\n",
      "[CV 1/2] END max_depth=50, max_features=sqrt, max_leaf_nodes=8, min_samples_leaf=5, splitter=random;, score=0.001 total time=   0.5s\n",
      "[CV 2/2] END max_depth=50, max_features=sqrt, max_leaf_nodes=8, min_samples_leaf=5, splitter=random;, score=0.000 total time=   0.5s\n",
      "[CV 1/2] END max_depth=50, max_features=sqrt, max_leaf_nodes=10, min_samples_leaf=3, splitter=best;, score=0.001 total time=   0.6s\n",
      "[CV 2/2] END max_depth=50, max_features=sqrt, max_leaf_nodes=10, min_samples_leaf=3, splitter=best;, score=0.000 total time=   0.4s\n",
      "[CV 1/2] END max_depth=50, max_features=sqrt, max_leaf_nodes=10, min_samples_leaf=3, splitter=random;, score=0.001 total time=   0.4s\n",
      "[CV 2/2] END max_depth=50, max_features=sqrt, max_leaf_nodes=10, min_samples_leaf=3, splitter=random;, score=0.001 total time=   0.4s\n",
      "[CV 1/2] END max_depth=50, max_features=sqrt, max_leaf_nodes=10, min_samples_leaf=4, splitter=best;, score=0.002 total time=   0.7s\n",
      "[CV 2/2] END max_depth=50, max_features=sqrt, max_leaf_nodes=10, min_samples_leaf=4, splitter=best;, score=0.002 total time=   0.6s\n",
      "[CV 1/2] END max_depth=50, max_features=sqrt, max_leaf_nodes=10, min_samples_leaf=4, splitter=random;, score=0.001 total time=   0.4s\n",
      "[CV 2/2] END max_depth=50, max_features=sqrt, max_leaf_nodes=10, min_samples_leaf=4, splitter=random;, score=0.001 total time=   0.4s\n",
      "[CV 1/2] END max_depth=50, max_features=sqrt, max_leaf_nodes=10, min_samples_leaf=5, splitter=best;, score=0.001 total time=   0.5s\n",
      "[CV 2/2] END max_depth=50, max_features=sqrt, max_leaf_nodes=10, min_samples_leaf=5, splitter=best;, score=0.000 total time=   0.6s\n",
      "[CV 1/2] END max_depth=50, max_features=sqrt, max_leaf_nodes=10, min_samples_leaf=5, splitter=random;, score=0.000 total time=   0.4s\n",
      "[CV 2/2] END max_depth=50, max_features=sqrt, max_leaf_nodes=10, min_samples_leaf=5, splitter=random;, score=0.001 total time=   0.5s\n",
      "[CV 1/2] END max_depth=50, max_features=auto, max_leaf_nodes=5, min_samples_leaf=3, splitter=best;, score=0.002 total time=   1.0s\n",
      "[CV 2/2] END max_depth=50, max_features=auto, max_leaf_nodes=5, min_samples_leaf=3, splitter=best;, score=0.002 total time=   1.0s\n",
      "[CV 1/2] END max_depth=50, max_features=auto, max_leaf_nodes=5, min_samples_leaf=3, splitter=random;, score=0.001 total time=   0.6s\n",
      "[CV 2/2] END max_depth=50, max_features=auto, max_leaf_nodes=5, min_samples_leaf=3, splitter=random;, score=0.001 total time=   0.6s\n",
      "[CV 1/2] END max_depth=50, max_features=auto, max_leaf_nodes=5, min_samples_leaf=4, splitter=best;, score=0.002 total time=   1.0s\n",
      "[CV 2/2] END max_depth=50, max_features=auto, max_leaf_nodes=5, min_samples_leaf=4, splitter=best;, score=0.002 total time=   1.0s\n",
      "[CV 1/2] END max_depth=50, max_features=auto, max_leaf_nodes=5, min_samples_leaf=4, splitter=random;, score=0.002 total time=   0.6s\n",
      "[CV 2/2] END max_depth=50, max_features=auto, max_leaf_nodes=5, min_samples_leaf=4, splitter=random;, score=0.001 total time=   0.7s\n",
      "[CV 1/2] END max_depth=50, max_features=auto, max_leaf_nodes=5, min_samples_leaf=5, splitter=best;, score=0.002 total time=   1.2s\n",
      "[CV 2/2] END max_depth=50, max_features=auto, max_leaf_nodes=5, min_samples_leaf=5, splitter=best;, score=0.002 total time=   1.1s\n",
      "[CV 1/2] END max_depth=50, max_features=auto, max_leaf_nodes=5, min_samples_leaf=5, splitter=random;, score=0.001 total time=   0.6s\n",
      "[CV 2/2] END max_depth=50, max_features=auto, max_leaf_nodes=5, min_samples_leaf=5, splitter=random;, score=0.001 total time=   0.6s\n",
      "[CV 1/2] END max_depth=50, max_features=auto, max_leaf_nodes=8, min_samples_leaf=3, splitter=best;, score=0.003 total time=   1.4s\n",
      "[CV 2/2] END max_depth=50, max_features=auto, max_leaf_nodes=8, min_samples_leaf=3, splitter=best;, score=0.003 total time=   1.3s\n",
      "[CV 1/2] END max_depth=50, max_features=auto, max_leaf_nodes=8, min_samples_leaf=3, splitter=random;, score=0.001 total time=   0.9s\n",
      "[CV 2/2] END max_depth=50, max_features=auto, max_leaf_nodes=8, min_samples_leaf=3, splitter=random;, score=0.001 total time=   0.8s\n",
      "[CV 1/2] END max_depth=50, max_features=auto, max_leaf_nodes=8, min_samples_leaf=4, splitter=best;, score=0.003 total time=   1.3s\n",
      "[CV 2/2] END max_depth=50, max_features=auto, max_leaf_nodes=8, min_samples_leaf=4, splitter=best;, score=0.003 total time=   1.5s\n",
      "[CV 1/2] END max_depth=50, max_features=auto, max_leaf_nodes=8, min_samples_leaf=4, splitter=random;, score=0.002 total time=   0.8s\n",
      "[CV 2/2] END max_depth=50, max_features=auto, max_leaf_nodes=8, min_samples_leaf=4, splitter=random;, score=0.002 total time=   0.8s\n",
      "[CV 1/2] END max_depth=50, max_features=auto, max_leaf_nodes=8, min_samples_leaf=5, splitter=best;, score=0.003 total time=   1.3s\n",
      "[CV 2/2] END max_depth=50, max_features=auto, max_leaf_nodes=8, min_samples_leaf=5, splitter=best;, score=0.003 total time=   1.6s\n",
      "[CV 1/2] END max_depth=50, max_features=auto, max_leaf_nodes=8, min_samples_leaf=5, splitter=random;, score=0.001 total time=   0.9s\n",
      "[CV 2/2] END max_depth=50, max_features=auto, max_leaf_nodes=8, min_samples_leaf=5, splitter=random;, score=0.001 total time=   0.9s\n",
      "[CV 1/2] END max_depth=50, max_features=auto, max_leaf_nodes=10, min_samples_leaf=3, splitter=best;, score=0.003 total time=   1.4s\n",
      "[CV 2/2] END max_depth=50, max_features=auto, max_leaf_nodes=10, min_samples_leaf=3, splitter=best;, score=0.003 total time=   1.4s\n"
     ]
    },
    {
     "name": "stdout",
     "output_type": "stream",
     "text": [
      "[CV 1/2] END max_depth=50, max_features=auto, max_leaf_nodes=10, min_samples_leaf=3, splitter=random;, score=0.001 total time=   0.8s\n",
      "[CV 2/2] END max_depth=50, max_features=auto, max_leaf_nodes=10, min_samples_leaf=3, splitter=random;, score=0.002 total time=   0.8s\n",
      "[CV 1/2] END max_depth=50, max_features=auto, max_leaf_nodes=10, min_samples_leaf=4, splitter=best;, score=0.003 total time=   1.3s\n",
      "[CV 2/2] END max_depth=50, max_features=auto, max_leaf_nodes=10, min_samples_leaf=4, splitter=best;, score=0.003 total time=   1.2s\n",
      "[CV 1/2] END max_depth=50, max_features=auto, max_leaf_nodes=10, min_samples_leaf=4, splitter=random;, score=0.002 total time=   0.8s\n",
      "[CV 2/2] END max_depth=50, max_features=auto, max_leaf_nodes=10, min_samples_leaf=4, splitter=random;, score=0.001 total time=   0.9s\n",
      "[CV 1/2] END max_depth=50, max_features=auto, max_leaf_nodes=10, min_samples_leaf=5, splitter=best;, score=0.003 total time=   1.3s\n",
      "[CV 2/2] END max_depth=50, max_features=auto, max_leaf_nodes=10, min_samples_leaf=5, splitter=best;, score=0.003 total time=   1.2s\n",
      "[CV 1/2] END max_depth=50, max_features=auto, max_leaf_nodes=10, min_samples_leaf=5, splitter=random;, score=0.001 total time=   1.2s\n",
      "[CV 2/2] END max_depth=50, max_features=auto, max_leaf_nodes=10, min_samples_leaf=5, splitter=random;, score=0.002 total time=   1.0s\n",
      "[CV 1/2] END max_depth=90, max_features=sqrt, max_leaf_nodes=5, min_samples_leaf=3, splitter=best;, score=0.000 total time=   0.7s\n",
      "[CV 2/2] END max_depth=90, max_features=sqrt, max_leaf_nodes=5, min_samples_leaf=3, splitter=best;, score=0.000 total time=   0.6s\n",
      "[CV 1/2] END max_depth=90, max_features=sqrt, max_leaf_nodes=5, min_samples_leaf=3, splitter=random;, score=0.001 total time=   0.5s\n",
      "[CV 2/2] END max_depth=90, max_features=sqrt, max_leaf_nodes=5, min_samples_leaf=3, splitter=random;, score=0.000 total time=   0.5s\n",
      "[CV 1/2] END max_depth=90, max_features=sqrt, max_leaf_nodes=5, min_samples_leaf=4, splitter=best;, score=0.001 total time=   0.4s\n",
      "[CV 2/2] END max_depth=90, max_features=sqrt, max_leaf_nodes=5, min_samples_leaf=4, splitter=best;, score=0.002 total time=   0.6s\n",
      "[CV 1/2] END max_depth=90, max_features=sqrt, max_leaf_nodes=5, min_samples_leaf=4, splitter=random;, score=0.001 total time=   0.5s\n",
      "[CV 2/2] END max_depth=90, max_features=sqrt, max_leaf_nodes=5, min_samples_leaf=4, splitter=random;, score=0.001 total time=   0.4s\n",
      "[CV 1/2] END max_depth=90, max_features=sqrt, max_leaf_nodes=5, min_samples_leaf=5, splitter=best;, score=0.001 total time=   0.6s\n",
      "[CV 2/2] END max_depth=90, max_features=sqrt, max_leaf_nodes=5, min_samples_leaf=5, splitter=best;, score=0.001 total time=   0.8s\n",
      "[CV 1/2] END max_depth=90, max_features=sqrt, max_leaf_nodes=5, min_samples_leaf=5, splitter=random;, score=0.001 total time=   0.5s\n",
      "[CV 2/2] END max_depth=90, max_features=sqrt, max_leaf_nodes=5, min_samples_leaf=5, splitter=random;, score=0.000 total time=   0.4s\n",
      "[CV 1/2] END max_depth=90, max_features=sqrt, max_leaf_nodes=8, min_samples_leaf=3, splitter=best;, score=0.001 total time=   0.7s\n",
      "[CV 2/2] END max_depth=90, max_features=sqrt, max_leaf_nodes=8, min_samples_leaf=3, splitter=best;, score=0.001 total time=   0.6s\n",
      "[CV 1/2] END max_depth=90, max_features=sqrt, max_leaf_nodes=8, min_samples_leaf=3, splitter=random;, score=0.001 total time=   0.5s\n",
      "[CV 2/2] END max_depth=90, max_features=sqrt, max_leaf_nodes=8, min_samples_leaf=3, splitter=random;, score=0.001 total time=   0.5s\n",
      "[CV 1/2] END max_depth=90, max_features=sqrt, max_leaf_nodes=8, min_samples_leaf=4, splitter=best;, score=0.001 total time=   0.7s\n",
      "[CV 2/2] END max_depth=90, max_features=sqrt, max_leaf_nodes=8, min_samples_leaf=4, splitter=best;, score=0.002 total time=   0.7s\n",
      "[CV 1/2] END max_depth=90, max_features=sqrt, max_leaf_nodes=8, min_samples_leaf=4, splitter=random;, score=0.002 total time=   0.5s\n",
      "[CV 2/2] END max_depth=90, max_features=sqrt, max_leaf_nodes=8, min_samples_leaf=4, splitter=random;, score=0.001 total time=   0.5s\n",
      "[CV 1/2] END max_depth=90, max_features=sqrt, max_leaf_nodes=8, min_samples_leaf=5, splitter=best;, score=0.000 total time=   0.6s\n",
      "[CV 2/2] END max_depth=90, max_features=sqrt, max_leaf_nodes=8, min_samples_leaf=5, splitter=best;, score=0.001 total time=   0.7s\n",
      "[CV 1/2] END max_depth=90, max_features=sqrt, max_leaf_nodes=8, min_samples_leaf=5, splitter=random;, score=0.001 total time=   0.5s\n",
      "[CV 2/2] END max_depth=90, max_features=sqrt, max_leaf_nodes=8, min_samples_leaf=5, splitter=random;, score=0.001 total time=   0.5s\n",
      "[CV 1/2] END max_depth=90, max_features=sqrt, max_leaf_nodes=10, min_samples_leaf=3, splitter=best;, score=0.001 total time=   0.8s\n",
      "[CV 2/2] END max_depth=90, max_features=sqrt, max_leaf_nodes=10, min_samples_leaf=3, splitter=best;, score=0.001 total time=   0.6s\n",
      "[CV 1/2] END max_depth=90, max_features=sqrt, max_leaf_nodes=10, min_samples_leaf=3, splitter=random;, score=0.001 total time=   0.4s\n",
      "[CV 2/2] END max_depth=90, max_features=sqrt, max_leaf_nodes=10, min_samples_leaf=3, splitter=random;, score=0.001 total time=   0.5s\n",
      "[CV 1/2] END max_depth=90, max_features=sqrt, max_leaf_nodes=10, min_samples_leaf=4, splitter=best;, score=0.001 total time=   0.7s\n",
      "[CV 2/2] END max_depth=90, max_features=sqrt, max_leaf_nodes=10, min_samples_leaf=4, splitter=best;, score=0.001 total time=   0.7s\n",
      "[CV 1/2] END max_depth=90, max_features=sqrt, max_leaf_nodes=10, min_samples_leaf=4, splitter=random;, score=0.001 total time=   0.5s\n",
      "[CV 2/2] END max_depth=90, max_features=sqrt, max_leaf_nodes=10, min_samples_leaf=4, splitter=random;, score=0.001 total time=   0.5s\n",
      "[CV 1/2] END max_depth=90, max_features=sqrt, max_leaf_nodes=10, min_samples_leaf=5, splitter=best;, score=0.002 total time=   0.6s\n",
      "[CV 2/2] END max_depth=90, max_features=sqrt, max_leaf_nodes=10, min_samples_leaf=5, splitter=best;, score=0.001 total time=   0.6s\n",
      "[CV 1/2] END max_depth=90, max_features=sqrt, max_leaf_nodes=10, min_samples_leaf=5, splitter=random;, score=0.000 total time=   0.4s\n",
      "[CV 2/2] END max_depth=90, max_features=sqrt, max_leaf_nodes=10, min_samples_leaf=5, splitter=random;, score=0.001 total time=   0.5s\n",
      "[CV 1/2] END max_depth=90, max_features=auto, max_leaf_nodes=5, min_samples_leaf=3, splitter=best;, score=0.002 total time=   1.0s\n",
      "[CV 2/2] END max_depth=90, max_features=auto, max_leaf_nodes=5, min_samples_leaf=3, splitter=best;, score=0.002 total time=   1.1s\n",
      "[CV 1/2] END max_depth=90, max_features=auto, max_leaf_nodes=5, min_samples_leaf=3, splitter=random;, score=0.001 total time=   0.7s\n",
      "[CV 2/2] END max_depth=90, max_features=auto, max_leaf_nodes=5, min_samples_leaf=3, splitter=random;, score=0.001 total time=   0.7s\n",
      "[CV 1/2] END max_depth=90, max_features=auto, max_leaf_nodes=5, min_samples_leaf=4, splitter=best;, score=0.002 total time=   1.1s\n",
      "[CV 2/2] END max_depth=90, max_features=auto, max_leaf_nodes=5, min_samples_leaf=4, splitter=best;, score=0.002 total time=   1.4s\n",
      "[CV 1/2] END max_depth=90, max_features=auto, max_leaf_nodes=5, min_samples_leaf=4, splitter=random;, score=0.001 total time=   0.8s\n",
      "[CV 2/2] END max_depth=90, max_features=auto, max_leaf_nodes=5, min_samples_leaf=4, splitter=random;, score=0.001 total time=   0.7s\n",
      "[CV 1/2] END max_depth=90, max_features=auto, max_leaf_nodes=5, min_samples_leaf=5, splitter=best;, score=0.002 total time=   1.1s\n",
      "[CV 2/2] END max_depth=90, max_features=auto, max_leaf_nodes=5, min_samples_leaf=5, splitter=best;, score=0.002 total time=   1.1s\n",
      "[CV 1/2] END max_depth=90, max_features=auto, max_leaf_nodes=5, min_samples_leaf=5, splitter=random;, score=0.002 total time=   0.7s\n",
      "[CV 2/2] END max_depth=90, max_features=auto, max_leaf_nodes=5, min_samples_leaf=5, splitter=random;, score=0.001 total time=   0.6s\n",
      "[CV 1/2] END max_depth=90, max_features=auto, max_leaf_nodes=8, min_samples_leaf=3, splitter=best;, score=0.003 total time=   1.2s\n",
      "[CV 2/2] END max_depth=90, max_features=auto, max_leaf_nodes=8, min_samples_leaf=3, splitter=best;, score=0.003 total time=   1.1s\n",
      "[CV 1/2] END max_depth=90, max_features=auto, max_leaf_nodes=8, min_samples_leaf=3, splitter=random;, score=0.001 total time=   0.8s\n",
      "[CV 2/2] END max_depth=90, max_features=auto, max_leaf_nodes=8, min_samples_leaf=3, splitter=random;, score=0.002 total time=   0.8s\n"
     ]
    },
    {
     "name": "stdout",
     "output_type": "stream",
     "text": [
      "[CV 1/2] END max_depth=90, max_features=auto, max_leaf_nodes=8, min_samples_leaf=4, splitter=best;, score=0.003 total time=   1.4s\n",
      "[CV 2/2] END max_depth=90, max_features=auto, max_leaf_nodes=8, min_samples_leaf=4, splitter=best;, score=0.003 total time=   1.3s\n",
      "[CV 1/2] END max_depth=90, max_features=auto, max_leaf_nodes=8, min_samples_leaf=4, splitter=random;, score=0.002 total time=   0.8s\n",
      "[CV 2/2] END max_depth=90, max_features=auto, max_leaf_nodes=8, min_samples_leaf=4, splitter=random;, score=0.002 total time=   0.8s\n",
      "[CV 1/2] END max_depth=90, max_features=auto, max_leaf_nodes=8, min_samples_leaf=5, splitter=best;, score=0.003 total time=   1.5s\n",
      "[CV 2/2] END max_depth=90, max_features=auto, max_leaf_nodes=8, min_samples_leaf=5, splitter=best;, score=0.003 total time=   1.2s\n",
      "[CV 1/2] END max_depth=90, max_features=auto, max_leaf_nodes=8, min_samples_leaf=5, splitter=random;, score=0.001 total time=   0.8s\n",
      "[CV 2/2] END max_depth=90, max_features=auto, max_leaf_nodes=8, min_samples_leaf=5, splitter=random;, score=0.001 total time=   0.8s\n",
      "[CV 1/2] END max_depth=90, max_features=auto, max_leaf_nodes=10, min_samples_leaf=3, splitter=best;, score=0.003 total time=   1.3s\n",
      "[CV 2/2] END max_depth=90, max_features=auto, max_leaf_nodes=10, min_samples_leaf=3, splitter=best;, score=0.003 total time=   1.3s\n",
      "[CV 1/2] END max_depth=90, max_features=auto, max_leaf_nodes=10, min_samples_leaf=3, splitter=random;, score=0.001 total time=   0.9s\n",
      "[CV 2/2] END max_depth=90, max_features=auto, max_leaf_nodes=10, min_samples_leaf=3, splitter=random;, score=0.001 total time=   0.8s\n",
      "[CV 1/2] END max_depth=90, max_features=auto, max_leaf_nodes=10, min_samples_leaf=4, splitter=best;, score=0.003 total time=   1.3s\n",
      "[CV 2/2] END max_depth=90, max_features=auto, max_leaf_nodes=10, min_samples_leaf=4, splitter=best;, score=0.003 total time=   1.2s\n",
      "[CV 1/2] END max_depth=90, max_features=auto, max_leaf_nodes=10, min_samples_leaf=4, splitter=random;, score=0.001 total time=   0.8s\n",
      "[CV 2/2] END max_depth=90, max_features=auto, max_leaf_nodes=10, min_samples_leaf=4, splitter=random;, score=0.001 total time=   0.8s\n",
      "[CV 1/2] END max_depth=90, max_features=auto, max_leaf_nodes=10, min_samples_leaf=5, splitter=best;, score=0.003 total time=   1.3s\n",
      "[CV 2/2] END max_depth=90, max_features=auto, max_leaf_nodes=10, min_samples_leaf=5, splitter=best;, score=0.003 total time=   1.5s\n",
      "[CV 1/2] END max_depth=90, max_features=auto, max_leaf_nodes=10, min_samples_leaf=5, splitter=random;, score=0.003 total time=   0.9s\n",
      "[CV 2/2] END max_depth=90, max_features=auto, max_leaf_nodes=10, min_samples_leaf=5, splitter=random;, score=0.001 total time=   1.0s\n",
      "[CV 1/2] END max_depth=110, max_features=sqrt, max_leaf_nodes=5, min_samples_leaf=3, splitter=best;, score=0.001 total time=   0.5s\n",
      "[CV 2/2] END max_depth=110, max_features=sqrt, max_leaf_nodes=5, min_samples_leaf=3, splitter=best;, score=0.002 total time=   0.6s\n",
      "[CV 1/2] END max_depth=110, max_features=sqrt, max_leaf_nodes=5, min_samples_leaf=3, splitter=random;, score=0.001 total time=   0.4s\n",
      "[CV 2/2] END max_depth=110, max_features=sqrt, max_leaf_nodes=5, min_samples_leaf=3, splitter=random;, score=0.000 total time=   0.4s\n",
      "[CV 1/2] END max_depth=110, max_features=sqrt, max_leaf_nodes=5, min_samples_leaf=4, splitter=best;, score=0.001 total time=   0.5s\n",
      "[CV 2/2] END max_depth=110, max_features=sqrt, max_leaf_nodes=5, min_samples_leaf=4, splitter=best;, score=0.001 total time=   0.6s\n",
      "[CV 1/2] END max_depth=110, max_features=sqrt, max_leaf_nodes=5, min_samples_leaf=4, splitter=random;, score=0.001 total time=   0.4s\n",
      "[CV 2/2] END max_depth=110, max_features=sqrt, max_leaf_nodes=5, min_samples_leaf=4, splitter=random;, score=0.001 total time=   0.4s\n",
      "[CV 1/2] END max_depth=110, max_features=sqrt, max_leaf_nodes=5, min_samples_leaf=5, splitter=best;, score=0.001 total time=   0.6s\n",
      "[CV 2/2] END max_depth=110, max_features=sqrt, max_leaf_nodes=5, min_samples_leaf=5, splitter=best;, score=0.001 total time=   0.8s\n",
      "[CV 1/2] END max_depth=110, max_features=sqrt, max_leaf_nodes=5, min_samples_leaf=5, splitter=random;, score=0.000 total time=   0.4s\n",
      "[CV 2/2] END max_depth=110, max_features=sqrt, max_leaf_nodes=5, min_samples_leaf=5, splitter=random;, score=0.001 total time=   0.4s\n",
      "[CV 1/2] END max_depth=110, max_features=sqrt, max_leaf_nodes=8, min_samples_leaf=3, splitter=best;, score=0.001 total time=   0.6s\n",
      "[CV 2/2] END max_depth=110, max_features=sqrt, max_leaf_nodes=8, min_samples_leaf=3, splitter=best;, score=0.001 total time=   0.6s\n",
      "[CV 1/2] END max_depth=110, max_features=sqrt, max_leaf_nodes=8, min_samples_leaf=3, splitter=random;, score=0.001 total time=   0.4s\n",
      "[CV 2/2] END max_depth=110, max_features=sqrt, max_leaf_nodes=8, min_samples_leaf=3, splitter=random;, score=0.001 total time=   0.4s\n",
      "[CV 1/2] END max_depth=110, max_features=sqrt, max_leaf_nodes=8, min_samples_leaf=4, splitter=best;, score=0.001 total time=   0.5s\n",
      "[CV 2/2] END max_depth=110, max_features=sqrt, max_leaf_nodes=8, min_samples_leaf=4, splitter=best;, score=0.001 total time=   0.7s\n",
      "[CV 1/2] END max_depth=110, max_features=sqrt, max_leaf_nodes=8, min_samples_leaf=4, splitter=random;, score=0.001 total time=   0.4s\n",
      "[CV 2/2] END max_depth=110, max_features=sqrt, max_leaf_nodes=8, min_samples_leaf=4, splitter=random;, score=0.001 total time=   0.5s\n",
      "[CV 1/2] END max_depth=110, max_features=sqrt, max_leaf_nodes=8, min_samples_leaf=5, splitter=best;, score=0.001 total time=   0.9s\n",
      "[CV 2/2] END max_depth=110, max_features=sqrt, max_leaf_nodes=8, min_samples_leaf=5, splitter=best;, score=0.001 total time=   0.7s\n",
      "[CV 1/2] END max_depth=110, max_features=sqrt, max_leaf_nodes=8, min_samples_leaf=5, splitter=random;, score=0.001 total time=   0.4s\n",
      "[CV 2/2] END max_depth=110, max_features=sqrt, max_leaf_nodes=8, min_samples_leaf=5, splitter=random;, score=0.000 total time=   0.4s\n",
      "[CV 1/2] END max_depth=110, max_features=sqrt, max_leaf_nodes=10, min_samples_leaf=3, splitter=best;, score=0.001 total time=   0.7s\n",
      "[CV 2/2] END max_depth=110, max_features=sqrt, max_leaf_nodes=10, min_samples_leaf=3, splitter=best;, score=0.001 total time=   0.6s\n",
      "[CV 1/2] END max_depth=110, max_features=sqrt, max_leaf_nodes=10, min_samples_leaf=3, splitter=random;, score=0.001 total time=   0.4s\n",
      "[CV 2/2] END max_depth=110, max_features=sqrt, max_leaf_nodes=10, min_samples_leaf=3, splitter=random;, score=0.001 total time=   0.4s\n",
      "[CV 1/2] END max_depth=110, max_features=sqrt, max_leaf_nodes=10, min_samples_leaf=4, splitter=best;, score=0.001 total time=   0.6s\n",
      "[CV 2/2] END max_depth=110, max_features=sqrt, max_leaf_nodes=10, min_samples_leaf=4, splitter=best;, score=0.001 total time=   0.7s\n",
      "[CV 1/2] END max_depth=110, max_features=sqrt, max_leaf_nodes=10, min_samples_leaf=4, splitter=random;, score=0.001 total time=   0.5s\n",
      "[CV 2/2] END max_depth=110, max_features=sqrt, max_leaf_nodes=10, min_samples_leaf=4, splitter=random;, score=0.000 total time=   0.4s\n",
      "[CV 1/2] END max_depth=110, max_features=sqrt, max_leaf_nodes=10, min_samples_leaf=5, splitter=best;, score=0.000 total time=   0.5s\n",
      "[CV 2/2] END max_depth=110, max_features=sqrt, max_leaf_nodes=10, min_samples_leaf=5, splitter=best;, score=0.001 total time=   0.6s\n",
      "[CV 1/2] END max_depth=110, max_features=sqrt, max_leaf_nodes=10, min_samples_leaf=5, splitter=random;, score=0.001 total time=   0.4s\n",
      "[CV 2/2] END max_depth=110, max_features=sqrt, max_leaf_nodes=10, min_samples_leaf=5, splitter=random;, score=0.001 total time=   0.5s\n",
      "[CV 1/2] END max_depth=110, max_features=auto, max_leaf_nodes=5, min_samples_leaf=3, splitter=best;, score=0.002 total time=   1.0s\n",
      "[CV 2/2] END max_depth=110, max_features=auto, max_leaf_nodes=5, min_samples_leaf=3, splitter=best;, score=0.002 total time=   1.0s\n",
      "[CV 1/2] END max_depth=110, max_features=auto, max_leaf_nodes=5, min_samples_leaf=3, splitter=random;, score=0.001 total time=   0.7s\n",
      "[CV 2/2] END max_depth=110, max_features=auto, max_leaf_nodes=5, min_samples_leaf=3, splitter=random;, score=0.001 total time=   0.6s\n",
      "[CV 1/2] END max_depth=110, max_features=auto, max_leaf_nodes=5, min_samples_leaf=4, splitter=best;, score=0.002 total time=   1.1s\n",
      "[CV 2/2] END max_depth=110, max_features=auto, max_leaf_nodes=5, min_samples_leaf=4, splitter=best;, score=0.002 total time=   1.3s\n"
     ]
    },
    {
     "name": "stdout",
     "output_type": "stream",
     "text": [
      "[CV 1/2] END max_depth=110, max_features=auto, max_leaf_nodes=5, min_samples_leaf=4, splitter=random;, score=0.001 total time=   0.8s\n",
      "[CV 2/2] END max_depth=110, max_features=auto, max_leaf_nodes=5, min_samples_leaf=4, splitter=random;, score=0.002 total time=   0.7s\n",
      "[CV 1/2] END max_depth=110, max_features=auto, max_leaf_nodes=5, min_samples_leaf=5, splitter=best;, score=0.002 total time=   1.1s\n",
      "[CV 2/2] END max_depth=110, max_features=auto, max_leaf_nodes=5, min_samples_leaf=5, splitter=best;, score=0.002 total time=   1.1s\n",
      "[CV 1/2] END max_depth=110, max_features=auto, max_leaf_nodes=5, min_samples_leaf=5, splitter=random;, score=0.001 total time=   0.7s\n",
      "[CV 2/2] END max_depth=110, max_features=auto, max_leaf_nodes=5, min_samples_leaf=5, splitter=random;, score=0.001 total time=   0.7s\n",
      "[CV 1/2] END max_depth=110, max_features=auto, max_leaf_nodes=8, min_samples_leaf=3, splitter=best;, score=0.003 total time=   1.3s\n",
      "[CV 2/2] END max_depth=110, max_features=auto, max_leaf_nodes=8, min_samples_leaf=3, splitter=best;, score=0.003 total time=   1.2s\n",
      "[CV 1/2] END max_depth=110, max_features=auto, max_leaf_nodes=8, min_samples_leaf=3, splitter=random;, score=0.002 total time=   0.8s\n",
      "[CV 2/2] END max_depth=110, max_features=auto, max_leaf_nodes=8, min_samples_leaf=3, splitter=random;, score=0.001 total time=   0.8s\n",
      "[CV 1/2] END max_depth=110, max_features=auto, max_leaf_nodes=8, min_samples_leaf=4, splitter=best;, score=0.003 total time=   1.2s\n",
      "[CV 2/2] END max_depth=110, max_features=auto, max_leaf_nodes=8, min_samples_leaf=4, splitter=best;, score=0.003 total time=   1.2s\n",
      "[CV 1/2] END max_depth=110, max_features=auto, max_leaf_nodes=8, min_samples_leaf=4, splitter=random;, score=0.001 total time=   0.7s\n",
      "[CV 2/2] END max_depth=110, max_features=auto, max_leaf_nodes=8, min_samples_leaf=4, splitter=random;, score=0.002 total time=   0.7s\n",
      "[CV 1/2] END max_depth=110, max_features=auto, max_leaf_nodes=8, min_samples_leaf=5, splitter=best;, score=0.003 total time=   1.4s\n",
      "[CV 2/2] END max_depth=110, max_features=auto, max_leaf_nodes=8, min_samples_leaf=5, splitter=best;, score=0.003 total time=   1.3s\n",
      "[CV 1/2] END max_depth=110, max_features=auto, max_leaf_nodes=8, min_samples_leaf=5, splitter=random;, score=0.003 total time=   0.7s\n",
      "[CV 2/2] END max_depth=110, max_features=auto, max_leaf_nodes=8, min_samples_leaf=5, splitter=random;, score=0.001 total time=   0.8s\n",
      "[CV 1/2] END max_depth=110, max_features=auto, max_leaf_nodes=10, min_samples_leaf=3, splitter=best;, score=0.003 total time=   1.3s\n",
      "[CV 2/2] END max_depth=110, max_features=auto, max_leaf_nodes=10, min_samples_leaf=3, splitter=best;, score=0.003 total time=   1.2s\n",
      "[CV 1/2] END max_depth=110, max_features=auto, max_leaf_nodes=10, min_samples_leaf=3, splitter=random;, score=0.002 total time=   0.8s\n",
      "[CV 2/2] END max_depth=110, max_features=auto, max_leaf_nodes=10, min_samples_leaf=3, splitter=random;, score=0.001 total time=   0.9s\n",
      "[CV 1/2] END max_depth=110, max_features=auto, max_leaf_nodes=10, min_samples_leaf=4, splitter=best;, score=0.003 total time=   1.3s\n",
      "[CV 2/2] END max_depth=110, max_features=auto, max_leaf_nodes=10, min_samples_leaf=4, splitter=best;, score=0.003 total time=   1.2s\n",
      "[CV 1/2] END max_depth=110, max_features=auto, max_leaf_nodes=10, min_samples_leaf=4, splitter=random;, score=0.001 total time=   0.9s\n",
      "[CV 2/2] END max_depth=110, max_features=auto, max_leaf_nodes=10, min_samples_leaf=4, splitter=random;, score=0.002 total time=   0.8s\n",
      "[CV 1/2] END max_depth=110, max_features=auto, max_leaf_nodes=10, min_samples_leaf=5, splitter=best;, score=0.003 total time=   1.3s\n",
      "[CV 2/2] END max_depth=110, max_features=auto, max_leaf_nodes=10, min_samples_leaf=5, splitter=best;, score=0.003 total time=   1.3s\n",
      "[CV 1/2] END max_depth=110, max_features=auto, max_leaf_nodes=10, min_samples_leaf=5, splitter=random;, score=0.001 total time=   1.0s\n",
      "[CV 2/2] END max_depth=110, max_features=auto, max_leaf_nodes=10, min_samples_leaf=5, splitter=random;, score=0.001 total time=   0.9s\n",
      "[CV 1/2] END max_depth=120, max_features=sqrt, max_leaf_nodes=5, min_samples_leaf=3, splitter=best;, score=0.000 total time=   0.4s\n",
      "[CV 2/2] END max_depth=120, max_features=sqrt, max_leaf_nodes=5, min_samples_leaf=3, splitter=best;, score=0.001 total time=   0.6s\n",
      "[CV 1/2] END max_depth=120, max_features=sqrt, max_leaf_nodes=5, min_samples_leaf=3, splitter=random;, score=0.000 total time=   0.4s\n",
      "[CV 2/2] END max_depth=120, max_features=sqrt, max_leaf_nodes=5, min_samples_leaf=3, splitter=random;, score=0.001 total time=   0.5s\n",
      "[CV 1/2] END max_depth=120, max_features=sqrt, max_leaf_nodes=5, min_samples_leaf=4, splitter=best;, score=0.001 total time=   0.5s\n",
      "[CV 2/2] END max_depth=120, max_features=sqrt, max_leaf_nodes=5, min_samples_leaf=4, splitter=best;, score=0.001 total time=   0.5s\n",
      "[CV 1/2] END max_depth=120, max_features=sqrt, max_leaf_nodes=5, min_samples_leaf=4, splitter=random;, score=0.001 total time=   0.4s\n",
      "[CV 2/2] END max_depth=120, max_features=sqrt, max_leaf_nodes=5, min_samples_leaf=4, splitter=random;, score=0.001 total time=   0.4s\n",
      "[CV 1/2] END max_depth=120, max_features=sqrt, max_leaf_nodes=5, min_samples_leaf=5, splitter=best;, score=0.001 total time=   0.5s\n",
      "[CV 2/2] END max_depth=120, max_features=sqrt, max_leaf_nodes=5, min_samples_leaf=5, splitter=best;, score=0.000 total time=   0.5s\n",
      "[CV 1/2] END max_depth=120, max_features=sqrt, max_leaf_nodes=5, min_samples_leaf=5, splitter=random;, score=0.000 total time=   0.4s\n",
      "[CV 2/2] END max_depth=120, max_features=sqrt, max_leaf_nodes=5, min_samples_leaf=5, splitter=random;, score=0.001 total time=   0.5s\n",
      "[CV 1/2] END max_depth=120, max_features=sqrt, max_leaf_nodes=8, min_samples_leaf=3, splitter=best;, score=0.001 total time=   0.7s\n",
      "[CV 2/2] END max_depth=120, max_features=sqrt, max_leaf_nodes=8, min_samples_leaf=3, splitter=best;, score=0.002 total time=   0.6s\n",
      "[CV 1/2] END max_depth=120, max_features=sqrt, max_leaf_nodes=8, min_samples_leaf=3, splitter=random;, score=0.001 total time=   0.4s\n",
      "[CV 2/2] END max_depth=120, max_features=sqrt, max_leaf_nodes=8, min_samples_leaf=3, splitter=random;, score=0.000 total time=   0.4s\n",
      "[CV 1/2] END max_depth=120, max_features=sqrt, max_leaf_nodes=8, min_samples_leaf=4, splitter=best;, score=0.001 total time=   0.6s\n",
      "[CV 2/2] END max_depth=120, max_features=sqrt, max_leaf_nodes=8, min_samples_leaf=4, splitter=best;, score=0.001 total time=   0.5s\n",
      "[CV 1/2] END max_depth=120, max_features=sqrt, max_leaf_nodes=8, min_samples_leaf=4, splitter=random;, score=0.001 total time=   0.4s\n",
      "[CV 2/2] END max_depth=120, max_features=sqrt, max_leaf_nodes=8, min_samples_leaf=4, splitter=random;, score=0.000 total time=   0.4s\n",
      "[CV 1/2] END max_depth=120, max_features=sqrt, max_leaf_nodes=8, min_samples_leaf=5, splitter=best;, score=0.001 total time=   0.7s\n",
      "[CV 2/2] END max_depth=120, max_features=sqrt, max_leaf_nodes=8, min_samples_leaf=5, splitter=best;, score=0.001 total time=   0.7s\n",
      "[CV 1/2] END max_depth=120, max_features=sqrt, max_leaf_nodes=8, min_samples_leaf=5, splitter=random;, score=0.001 total time=   0.6s\n",
      "[CV 2/2] END max_depth=120, max_features=sqrt, max_leaf_nodes=8, min_samples_leaf=5, splitter=random;, score=0.001 total time=   0.5s\n",
      "[CV 1/2] END max_depth=120, max_features=sqrt, max_leaf_nodes=10, min_samples_leaf=3, splitter=best;, score=0.002 total time=   0.6s\n",
      "[CV 2/2] END max_depth=120, max_features=sqrt, max_leaf_nodes=10, min_samples_leaf=3, splitter=best;, score=0.001 total time=   0.5s\n",
      "[CV 1/2] END max_depth=120, max_features=sqrt, max_leaf_nodes=10, min_samples_leaf=3, splitter=random;, score=0.001 total time=   0.5s\n",
      "[CV 2/2] END max_depth=120, max_features=sqrt, max_leaf_nodes=10, min_samples_leaf=3, splitter=random;, score=0.001 total time=   0.4s\n",
      "[CV 1/2] END max_depth=120, max_features=sqrt, max_leaf_nodes=10, min_samples_leaf=4, splitter=best;, score=0.001 total time=   0.7s\n",
      "[CV 2/2] END max_depth=120, max_features=sqrt, max_leaf_nodes=10, min_samples_leaf=4, splitter=best;, score=0.001 total time=   0.7s\n",
      "[CV 1/2] END max_depth=120, max_features=sqrt, max_leaf_nodes=10, min_samples_leaf=4, splitter=random;, score=0.001 total time=   0.5s\n",
      "[CV 2/2] END max_depth=120, max_features=sqrt, max_leaf_nodes=10, min_samples_leaf=4, splitter=random;, score=0.001 total time=   0.5s\n"
     ]
    },
    {
     "name": "stdout",
     "output_type": "stream",
     "text": [
      "[CV 1/2] END max_depth=120, max_features=sqrt, max_leaf_nodes=10, min_samples_leaf=5, splitter=best;, score=0.001 total time=   0.5s\n",
      "[CV 2/2] END max_depth=120, max_features=sqrt, max_leaf_nodes=10, min_samples_leaf=5, splitter=best;, score=0.002 total time=   0.7s\n",
      "[CV 1/2] END max_depth=120, max_features=sqrt, max_leaf_nodes=10, min_samples_leaf=5, splitter=random;, score=0.001 total time=   0.5s\n",
      "[CV 2/2] END max_depth=120, max_features=sqrt, max_leaf_nodes=10, min_samples_leaf=5, splitter=random;, score=0.001 total time=   0.5s\n",
      "[CV 1/2] END max_depth=120, max_features=auto, max_leaf_nodes=5, min_samples_leaf=3, splitter=best;, score=0.002 total time=   1.1s\n",
      "[CV 2/2] END max_depth=120, max_features=auto, max_leaf_nodes=5, min_samples_leaf=3, splitter=best;, score=0.002 total time=   1.1s\n",
      "[CV 1/2] END max_depth=120, max_features=auto, max_leaf_nodes=5, min_samples_leaf=3, splitter=random;, score=0.001 total time=   0.7s\n",
      "[CV 2/2] END max_depth=120, max_features=auto, max_leaf_nodes=5, min_samples_leaf=3, splitter=random;, score=0.001 total time=   0.7s\n",
      "[CV 1/2] END max_depth=120, max_features=auto, max_leaf_nodes=5, min_samples_leaf=4, splitter=best;, score=0.002 total time=   1.1s\n",
      "[CV 2/2] END max_depth=120, max_features=auto, max_leaf_nodes=5, min_samples_leaf=4, splitter=best;, score=0.002 total time=   1.2s\n",
      "[CV 1/2] END max_depth=120, max_features=auto, max_leaf_nodes=5, min_samples_leaf=4, splitter=random;, score=0.001 total time=   0.9s\n",
      "[CV 2/2] END max_depth=120, max_features=auto, max_leaf_nodes=5, min_samples_leaf=4, splitter=random;, score=0.002 total time=   0.8s\n",
      "[CV 1/2] END max_depth=120, max_features=auto, max_leaf_nodes=5, min_samples_leaf=5, splitter=best;, score=0.002 total time=   1.2s\n",
      "[CV 2/2] END max_depth=120, max_features=auto, max_leaf_nodes=5, min_samples_leaf=5, splitter=best;, score=0.002 total time=   1.2s\n",
      "[CV 1/2] END max_depth=120, max_features=auto, max_leaf_nodes=5, min_samples_leaf=5, splitter=random;, score=0.001 total time=   0.7s\n",
      "[CV 2/2] END max_depth=120, max_features=auto, max_leaf_nodes=5, min_samples_leaf=5, splitter=random;, score=0.001 total time=   0.7s\n",
      "[CV 1/2] END max_depth=120, max_features=auto, max_leaf_nodes=8, min_samples_leaf=3, splitter=best;, score=0.003 total time=   1.2s\n",
      "[CV 2/2] END max_depth=120, max_features=auto, max_leaf_nodes=8, min_samples_leaf=3, splitter=best;, score=0.003 total time=   1.2s\n",
      "[CV 1/2] END max_depth=120, max_features=auto, max_leaf_nodes=8, min_samples_leaf=3, splitter=random;, score=0.001 total time=   0.8s\n",
      "[CV 2/2] END max_depth=120, max_features=auto, max_leaf_nodes=8, min_samples_leaf=3, splitter=random;, score=0.001 total time=   0.9s\n",
      "[CV 1/2] END max_depth=120, max_features=auto, max_leaf_nodes=8, min_samples_leaf=4, splitter=best;, score=0.003 total time=   1.3s\n",
      "[CV 2/2] END max_depth=120, max_features=auto, max_leaf_nodes=8, min_samples_leaf=4, splitter=best;, score=0.003 total time=   1.3s\n",
      "[CV 1/2] END max_depth=120, max_features=auto, max_leaf_nodes=8, min_samples_leaf=4, splitter=random;, score=0.001 total time=   0.9s\n",
      "[CV 2/2] END max_depth=120, max_features=auto, max_leaf_nodes=8, min_samples_leaf=4, splitter=random;, score=0.001 total time=   0.8s\n",
      "[CV 1/2] END max_depth=120, max_features=auto, max_leaf_nodes=8, min_samples_leaf=5, splitter=best;, score=0.003 total time=   1.5s\n",
      "[CV 2/2] END max_depth=120, max_features=auto, max_leaf_nodes=8, min_samples_leaf=5, splitter=best;, score=0.003 total time=   1.3s\n",
      "[CV 1/2] END max_depth=120, max_features=auto, max_leaf_nodes=8, min_samples_leaf=5, splitter=random;, score=0.002 total time=   0.9s\n",
      "[CV 2/2] END max_depth=120, max_features=auto, max_leaf_nodes=8, min_samples_leaf=5, splitter=random;, score=0.002 total time=   0.9s\n",
      "[CV 1/2] END max_depth=120, max_features=auto, max_leaf_nodes=10, min_samples_leaf=3, splitter=best;, score=0.003 total time=   1.4s\n",
      "[CV 2/2] END max_depth=120, max_features=auto, max_leaf_nodes=10, min_samples_leaf=3, splitter=best;, score=0.003 total time=   1.3s\n",
      "[CV 1/2] END max_depth=120, max_features=auto, max_leaf_nodes=10, min_samples_leaf=3, splitter=random;, score=0.003 total time=   0.8s\n",
      "[CV 2/2] END max_depth=120, max_features=auto, max_leaf_nodes=10, min_samples_leaf=3, splitter=random;, score=0.001 total time=   0.8s\n",
      "[CV 1/2] END max_depth=120, max_features=auto, max_leaf_nodes=10, min_samples_leaf=4, splitter=best;, score=0.003 total time=   1.3s\n",
      "[CV 2/2] END max_depth=120, max_features=auto, max_leaf_nodes=10, min_samples_leaf=4, splitter=best;, score=0.003 total time=   1.2s\n",
      "[CV 1/2] END max_depth=120, max_features=auto, max_leaf_nodes=10, min_samples_leaf=4, splitter=random;, score=0.002 total time=   0.9s\n",
      "[CV 2/2] END max_depth=120, max_features=auto, max_leaf_nodes=10, min_samples_leaf=4, splitter=random;, score=0.003 total time=   0.8s\n",
      "[CV 1/2] END max_depth=120, max_features=auto, max_leaf_nodes=10, min_samples_leaf=5, splitter=best;, score=0.003 total time=   1.3s\n",
      "[CV 2/2] END max_depth=120, max_features=auto, max_leaf_nodes=10, min_samples_leaf=5, splitter=best;, score=0.003 total time=   1.5s\n",
      "[CV 1/2] END max_depth=120, max_features=auto, max_leaf_nodes=10, min_samples_leaf=5, splitter=random;, score=0.002 total time=   0.9s\n",
      "[CV 2/2] END max_depth=120, max_features=auto, max_leaf_nodes=10, min_samples_leaf=5, splitter=random;, score=0.001 total time=   0.8s\n"
     ]
    }
   ],
   "source": [
    "#can considered more parameters but due to system constraints using lesser parameter. considering 2 fold\n",
    "parameters={\"splitter\":[\"best\",\"random\"],\n",
    "            \"max_depth\" : [50, 90, 110, 120],\n",
    "            \"min_samples_leaf\":[3, 4, 5],\n",
    "            \"max_features\":[\"sqrt\", \"auto\"],\n",
    "            \"max_leaf_nodes\":[5, 8, 10]}\n",
    "\n",
    "# Modelling \n",
    "opt_reg = GridSearchCV(DecisionTreeRegressor(), param_grid=parameters,cv=2,verbose=3)\n",
    "\n",
    "# Model Fitting\n",
    "opt_reg.fit(X_train, y_train)\n",
    "\n",
    "# Predictions\n",
    "dtm_train = opt_reg.predict(X_train)\n",
    "dtm_pred = opt_reg.predict(X_test)"
   ]
  },
  {
   "cell_type": "code",
   "execution_count": 24,
   "id": "efcbad67",
   "metadata": {},
   "outputs": [
    {
     "name": "stdout",
     "output_type": "stream",
     "text": [
      "{'max_depth': 90, 'max_features': 'auto', 'max_leaf_nodes': 10, 'min_samples_leaf': 5, 'splitter': 'best'}\n"
     ]
    }
   ],
   "source": [
    "#list of optimal parameters\n",
    "optimal_para = opt_reg.best_params_\n",
    "print(optimal_para)"
   ]
  },
  {
   "cell_type": "code",
   "execution_count": 25,
   "id": "04214165",
   "metadata": {},
   "outputs": [],
   "source": [
    "#Decision tree regression\n",
    "hyper_para= DecisionTreeRegressor(max_depth=optimal_para['max_depth'],\n",
    "                                         max_features=optimal_para['max_features'],\n",
    "                                         max_leaf_nodes=optimal_para['max_leaf_nodes'],\n",
    "                                         min_samples_leaf=optimal_para['min_samples_leaf'],\n",
    "                                         splitter=optimal_para['splitter'])\n",
    "\n",
    "hyper_para.fit(X_train,y_train)\n",
    "hyper_para_pred = hyper_para.predict(X_test)"
   ]
  },
  {
   "cell_type": "code",
   "execution_count": 26,
   "id": "5b4b87c7",
   "metadata": {},
   "outputs": [
    {
     "name": "stdout",
     "output_type": "stream",
     "text": [
      "RMSE value :  23.239927467876573\n",
      "R-Squared value :  0.0029996822631087605\n",
      "MSE value :  540.094228712164\n",
      "MAE value :  19.092896067426906\n"
     ]
    }
   ],
   "source": [
    "# Evaluation Metric\n",
    "print(\"RMSE value : \", np.sqrt(mse(y_test, hyper_para_pred)))\n",
    "print(\"R-Squared value : \", rsc(y_test, hyper_para_pred))\n",
    "print(\"MSE value : \", mse(y_test, hyper_para_pred))\n",
    "print(\"MAE value : \", mae(y_test, hyper_para_pred))"
   ]
  },
  {
   "cell_type": "code",
   "execution_count": 27,
   "id": "a08a09cf",
   "metadata": {},
   "outputs": [],
   "source": [
    "# # Due to limited hardware resources passing limited parameters\n",
    "\n",
    "# parameters={'n_estimators' :[10, 50, 100, 200, 500],\n",
    "#             'max_features':['auto', 'sqrt'],\n",
    "#             'max_depth':[20, 50, 70, 90, 110],\n",
    "#             'min_samples_split':[2, 5, 10],\n",
    "#             'min_samples_leaf':[1, 2, 4],\n",
    "#             'bootstrap':[True, False]}\n",
    "\n",
    "# # Modelling\n",
    "# rf = RandomForestRegressor()\n",
    "# rf_grid = GridSearchCV(DecisionTreeRegressor(), param_grid=parameters,cv=2,verbose=3)\n",
    "\n",
    "# # Model Fitting\n",
    "# rf_grid.fit(X_train, y_train)\n",
    "\n",
    "# # Predictions\n",
    "# rf_grid_pred = rf.predict(X_test)"
   ]
  },
  {
   "cell_type": "code",
   "execution_count": 28,
   "id": "58c67292",
   "metadata": {},
   "outputs": [
    {
     "data": {
      "text/plain": [
       "RandomForestRegressor(n_estimators=50, random_state=42)"
      ]
     },
     "execution_count": 28,
     "metadata": {},
     "output_type": "execute_result"
    }
   ],
   "source": [
    "# Passing fixed parameter due to performance constrained\n",
    "rf = RandomForestRegressor(n_estimators = 50, random_state = 42)\n",
    "\n",
    "# Model Fitting\n",
    "rf.fit(X_train, y_train)"
   ]
  },
  {
   "cell_type": "code",
   "execution_count": 29,
   "id": "7950941f",
   "metadata": {},
   "outputs": [],
   "source": [
    "# Predict\n",
    "rf_pred = rf.predict(X_test)"
   ]
  },
  {
   "cell_type": "code",
   "execution_count": 35,
   "id": "5bfbca44",
   "metadata": {},
   "outputs": [
    {
     "name": "stdout",
     "output_type": "stream",
     "text": [
      "           0                         feat\n",
      "0   0.010716              has_instruction\n",
      "1   0.016471             has_phone_number\n",
      "2   0.024290         has_call_instruction\n",
      "3   0.025211        has_leave_instruction\n",
      "4   0.012579         has_lift_instruction\n",
      "5   0.001557        has_lobby_instruction\n",
      "6   0.017800         has_gate_instruction\n",
      "7   0.015118        has_knock_instruction\n",
      "8   0.014435         has_bell_instruction\n",
      "9   0.652889                  order_value\n",
      "10  0.161212            order_items_count\n",
      "11  0.047722  delivery_geohash_precision5\n"
     ]
    }
   ],
   "source": [
    "# # feature importance\n",
    "coef = pd.DataFrame(rf.feature_importances_)\n",
    "print(coef)"
   ]
  },
  {
   "cell_type": "code",
   "execution_count": 31,
   "id": "aca15371",
   "metadata": {},
   "outputs": [
    {
     "name": "stdout",
     "output_type": "stream",
     "text": [
      "RMSE value :  24.76643214554719\n",
      "R-Squared value :  -0.13227691598696567\n",
      "MSE value :  613.3761612199932\n",
      "MAE value :  20.104237507133625\n"
     ]
    }
   ],
   "source": [
    "#Model Evaluation Metric\n",
    "print(\"RMSE value : \", np.sqrt(mse(y_test, rf_pred)))\n",
    "print(\"R-Squared value : \", rsc(y_test, rf_pred))\n",
    "print(\"MSE value : \", mse(y_test, rf_pred))\n",
    "print(\"MAE value : \", mae(y_test, rf_pred))"
   ]
  },
  {
   "cell_type": "markdown",
   "id": "d2083855",
   "metadata": {},
   "source": [
    "Looking at above model decision tree looks seemed to be best fit due to low MSE and MAE . \n",
    "However, I wanted to implement for XGboost. Due to time constraint and low performance system skipping as of now"
   ]
  },
  {
   "cell_type": "code",
   "execution_count": 45,
   "id": "89b1dfff",
   "metadata": {},
   "outputs": [
    {
     "data": {
      "text/html": [
       "<div>\n",
       "<style scoped>\n",
       "    .dataframe tbody tr th:only-of-type {\n",
       "        vertical-align: middle;\n",
       "    }\n",
       "\n",
       "    .dataframe tbody tr th {\n",
       "        vertical-align: top;\n",
       "    }\n",
       "\n",
       "    .dataframe thead th {\n",
       "        text-align: right;\n",
       "    }\n",
       "</style>\n",
       "<table border=\"1\" class=\"dataframe\">\n",
       "  <thead>\n",
       "    <tr style=\"text-align: right;\">\n",
       "      <th></th>\n",
       "      <th>order_value</th>\n",
       "      <th>order_items_count</th>\n",
       "      <th>logistics_dropoff_distance</th>\n",
       "      <th>has_call_instruction</th>\n",
       "    </tr>\n",
       "  </thead>\n",
       "  <tbody>\n",
       "    <tr>\n",
       "      <th>618</th>\n",
       "      <td>40.44</td>\n",
       "      <td>10</td>\n",
       "      <td>58.656138</td>\n",
       "      <td>0</td>\n",
       "    </tr>\n",
       "    <tr>\n",
       "      <th>619</th>\n",
       "      <td>35.60</td>\n",
       "      <td>10</td>\n",
       "      <td>39.025148</td>\n",
       "      <td>0</td>\n",
       "    </tr>\n",
       "    <tr>\n",
       "      <th>620</th>\n",
       "      <td>42.49</td>\n",
       "      <td>12</td>\n",
       "      <td>40.067811</td>\n",
       "      <td>0</td>\n",
       "    </tr>\n",
       "    <tr>\n",
       "      <th>621</th>\n",
       "      <td>14.40</td>\n",
       "      <td>11</td>\n",
       "      <td>44.986785</td>\n",
       "      <td>0</td>\n",
       "    </tr>\n",
       "    <tr>\n",
       "      <th>622</th>\n",
       "      <td>38.15</td>\n",
       "      <td>10</td>\n",
       "      <td>71.520828</td>\n",
       "      <td>0</td>\n",
       "    </tr>\n",
       "  </tbody>\n",
       "</table>\n",
       "</div>"
      ],
      "text/plain": [
       "     order_value  order_items_count  logistics_dropoff_distance  \\\n",
       "618        40.44                 10                   58.656138   \n",
       "619        35.60                 10                   39.025148   \n",
       "620        42.49                 12                   40.067811   \n",
       "621        14.40                 11                   44.986785   \n",
       "622        38.15                 10                   71.520828   \n",
       "\n",
       "     has_call_instruction  \n",
       "618                     0  \n",
       "619                     0  \n",
       "620                     0  \n",
       "621                     0  \n",
       "622                     0  "
      ]
     },
     "execution_count": 45,
     "metadata": {},
     "output_type": "execute_result"
    }
   ],
   "source": [
    "#Considering the important feature affecting good and bad delivery\n",
    "data = delivery[['order_value', 'order_items_count','logistics_dropoff_distance', 'has_call_instruction']]\n",
    "data.head()"
   ]
  },
  {
   "cell_type": "code",
   "execution_count": 79,
   "id": "d8fa67c8",
   "metadata": {},
   "outputs": [],
   "source": [
    "#Assuming bad delivery, where drop-off distance more than 75% percentile\n",
    "delivery['Category'] = np.where(data['logistics_dropoff_distance'] < 63 , 'Good', 'Bad')"
   ]
  },
  {
   "cell_type": "code",
   "execution_count": 80,
   "id": "e7b31cd4",
   "metadata": {},
   "outputs": [
    {
     "data": {
      "text/html": [
       "<div>\n",
       "<style scoped>\n",
       "    .dataframe tbody tr th:only-of-type {\n",
       "        vertical-align: middle;\n",
       "    }\n",
       "\n",
       "    .dataframe tbody tr th {\n",
       "        vertical-align: top;\n",
       "    }\n",
       "\n",
       "    .dataframe thead th {\n",
       "        text-align: right;\n",
       "    }\n",
       "</style>\n",
       "<table border=\"1\" class=\"dataframe\">\n",
       "  <thead>\n",
       "    <tr style=\"text-align: right;\">\n",
       "      <th></th>\n",
       "      <th>order_id</th>\n",
       "      <th>order_value</th>\n",
       "      <th>order_items_count</th>\n",
       "      <th>customer_id</th>\n",
       "      <th>created_timestamp_local</th>\n",
       "      <th>has_instruction</th>\n",
       "      <th>logistics_dropoff_distance</th>\n",
       "      <th>delivery_postal_code</th>\n",
       "      <th>delivery_geohash_precision8</th>\n",
       "      <th>has_phone_number</th>\n",
       "      <th>has_call_instruction</th>\n",
       "      <th>has_leave_instruction</th>\n",
       "      <th>has_lift_instruction</th>\n",
       "      <th>has_lobby_instruction</th>\n",
       "      <th>has_gate_instruction</th>\n",
       "      <th>has_knock_instruction</th>\n",
       "      <th>has_bell_instruction</th>\n",
       "      <th>delivery_geohash_precision5</th>\n",
       "      <th>Category</th>\n",
       "    </tr>\n",
       "  </thead>\n",
       "  <tbody>\n",
       "    <tr>\n",
       "      <th>618</th>\n",
       "      <td>b8ds-tqhf</td>\n",
       "      <td>40.44</td>\n",
       "      <td>10</td>\n",
       "      <td>h6huq0td</td>\n",
       "      <td>2021-03-11T20:19:50</td>\n",
       "      <td>1</td>\n",
       "      <td>58.656138</td>\n",
       "      <td>828868</td>\n",
       "      <td>w23bh248</td>\n",
       "      <td>0</td>\n",
       "      <td>0</td>\n",
       "      <td>0</td>\n",
       "      <td>0</td>\n",
       "      <td>0</td>\n",
       "      <td>0</td>\n",
       "      <td>0</td>\n",
       "      <td>0</td>\n",
       "      <td>36</td>\n",
       "      <td>Good</td>\n",
       "    </tr>\n",
       "    <tr>\n",
       "      <th>619</th>\n",
       "      <td>x5xx-j2d2</td>\n",
       "      <td>35.60</td>\n",
       "      <td>10</td>\n",
       "      <td>t2nod4rq</td>\n",
       "      <td>2021-03-12T18:42:48</td>\n",
       "      <td>1</td>\n",
       "      <td>39.025148</td>\n",
       "      <td>530548</td>\n",
       "      <td>w21zu55k</td>\n",
       "      <td>0</td>\n",
       "      <td>0</td>\n",
       "      <td>0</td>\n",
       "      <td>0</td>\n",
       "      <td>0</td>\n",
       "      <td>0</td>\n",
       "      <td>0</td>\n",
       "      <td>0</td>\n",
       "      <td>25</td>\n",
       "      <td>Good</td>\n",
       "    </tr>\n",
       "    <tr>\n",
       "      <th>620</th>\n",
       "      <td>x6qu-14kt</td>\n",
       "      <td>42.49</td>\n",
       "      <td>12</td>\n",
       "      <td>m4ycd3tm</td>\n",
       "      <td>2021-03-27T11:29:17</td>\n",
       "      <td>1</td>\n",
       "      <td>40.067811</td>\n",
       "      <td>650248</td>\n",
       "      <td>w21z9jc4</td>\n",
       "      <td>0</td>\n",
       "      <td>0</td>\n",
       "      <td>1</td>\n",
       "      <td>0</td>\n",
       "      <td>0</td>\n",
       "      <td>0</td>\n",
       "      <td>0</td>\n",
       "      <td>0</td>\n",
       "      <td>13</td>\n",
       "      <td>Good</td>\n",
       "    </tr>\n",
       "    <tr>\n",
       "      <th>621</th>\n",
       "      <td>x3yw-rhc5</td>\n",
       "      <td>14.40</td>\n",
       "      <td>11</td>\n",
       "      <td>sgmnf9sb</td>\n",
       "      <td>2021-03-02T22:08:52</td>\n",
       "      <td>1</td>\n",
       "      <td>44.986785</td>\n",
       "      <td>550105</td>\n",
       "      <td>w21zg97y</td>\n",
       "      <td>0</td>\n",
       "      <td>0</td>\n",
       "      <td>0</td>\n",
       "      <td>0</td>\n",
       "      <td>0</td>\n",
       "      <td>0</td>\n",
       "      <td>0</td>\n",
       "      <td>0</td>\n",
       "      <td>19</td>\n",
       "      <td>Good</td>\n",
       "    </tr>\n",
       "    <tr>\n",
       "      <th>622</th>\n",
       "      <td>y9zp-58q7</td>\n",
       "      <td>38.15</td>\n",
       "      <td>10</td>\n",
       "      <td>x4rvv3iy</td>\n",
       "      <td>2021-03-23T20:35:26</td>\n",
       "      <td>1</td>\n",
       "      <td>71.520828</td>\n",
       "      <td>102112</td>\n",
       "      <td>w21z61q6</td>\n",
       "      <td>0</td>\n",
       "      <td>0</td>\n",
       "      <td>0</td>\n",
       "      <td>0</td>\n",
       "      <td>0</td>\n",
       "      <td>0</td>\n",
       "      <td>0</td>\n",
       "      <td>0</td>\n",
       "      <td>10</td>\n",
       "      <td>Bad</td>\n",
       "    </tr>\n",
       "  </tbody>\n",
       "</table>\n",
       "</div>"
      ],
      "text/plain": [
       "      order_id  order_value  order_items_count customer_id  \\\n",
       "618  b8ds-tqhf        40.44                 10    h6huq0td   \n",
       "619  x5xx-j2d2        35.60                 10    t2nod4rq   \n",
       "620  x6qu-14kt        42.49                 12    m4ycd3tm   \n",
       "621  x3yw-rhc5        14.40                 11    sgmnf9sb   \n",
       "622  y9zp-58q7        38.15                 10    x4rvv3iy   \n",
       "\n",
       "    created_timestamp_local  has_instruction  logistics_dropoff_distance  \\\n",
       "618     2021-03-11T20:19:50                1                   58.656138   \n",
       "619     2021-03-12T18:42:48                1                   39.025148   \n",
       "620     2021-03-27T11:29:17                1                   40.067811   \n",
       "621     2021-03-02T22:08:52                1                   44.986785   \n",
       "622     2021-03-23T20:35:26                1                   71.520828   \n",
       "\n",
       "    delivery_postal_code delivery_geohash_precision8  has_phone_number  \\\n",
       "618               828868                    w23bh248                 0   \n",
       "619               530548                    w21zu55k                 0   \n",
       "620               650248                    w21z9jc4                 0   \n",
       "621               550105                    w21zg97y                 0   \n",
       "622               102112                    w21z61q6                 0   \n",
       "\n",
       "     has_call_instruction  has_leave_instruction  has_lift_instruction  \\\n",
       "618                     0                      0                     0   \n",
       "619                     0                      0                     0   \n",
       "620                     0                      1                     0   \n",
       "621                     0                      0                     0   \n",
       "622                     0                      0                     0   \n",
       "\n",
       "     has_lobby_instruction  has_gate_instruction  has_knock_instruction  \\\n",
       "618                      0                     0                      0   \n",
       "619                      0                     0                      0   \n",
       "620                      0                     0                      0   \n",
       "621                      0                     0                      0   \n",
       "622                      0                     0                      0   \n",
       "\n",
       "     has_bell_instruction  delivery_geohash_precision5 Category  \n",
       "618                     0                           36     Good  \n",
       "619                     0                           25     Good  \n",
       "620                     0                           13     Good  \n",
       "621                     0                           19     Good  \n",
       "622                     0                           10      Bad  "
      ]
     },
     "execution_count": 80,
     "metadata": {},
     "output_type": "execute_result"
    }
   ],
   "source": [
    "delivery.head()"
   ]
  },
  {
   "cell_type": "code",
   "execution_count": null,
   "id": "82d2a8ff",
   "metadata": {},
   "outputs": [],
   "source": [
    "#Further classification model also can be built to predict good and bad delivery"
   ]
  },
  {
   "cell_type": "raw",
   "id": "126bef27",
   "metadata": {},
   "source": [
    " Improvements: \n",
    "1)if given time and high performace system below models can be implemented for better fit\n",
    "    - Randomsearch with decisiontree\n",
    "    - Randomsearch with Randomforest\n",
    "    - Gridsearch with Randomforest\n",
    "    - XGboost with and without hypertuning\n",
    "2)Code can be structured well and productionsed\n",
    "3)Postalcode can be converted to lat long and be further used for feature\n",
    "4)Datapoints like gps data(traffic), customer rating, rider rating, restraunt rating, weather condition(Monsoon season may have bad delivery)\n",
    "5)Better tools for enterprize model\n",
    "6)Insights can be derived using timestamp month to understand which month has most bad delivery. \n",
    "7)Once the good and bad delivery model is assinged. That can be given input to classification model that can predict bad or good model\n",
    "8)Performing Multicolinearity \n"
   ]
  },
  {
   "cell_type": "raw",
   "id": "f5390640",
   "metadata": {},
   "source": [
    "Frontend proposal\n",
    "Model Can be packaged into .pkl file and can be deployed in to flask\n",
    "Important features can be input which would in reponse can provide bad and good delivery\n",
    "Geo-spatial view can be built to design optimal path for driver considering traffic and road type(bumppy, harsh, smooth)\n",
    "Location network attribute like speedlimit, Highway/residential, \n"
   ]
  },
  {
   "cell_type": "code",
   "execution_count": null,
   "id": "8f94ed6c",
   "metadata": {},
   "outputs": [],
   "source": []
  }
 ],
 "metadata": {
  "kernelspec": {
   "display_name": "Python 3 (ipykernel)",
   "language": "python",
   "name": "python3"
  },
  "language_info": {
   "codemirror_mode": {
    "name": "ipython",
    "version": 3
   },
   "file_extension": ".py",
   "mimetype": "text/x-python",
   "name": "python",
   "nbconvert_exporter": "python",
   "pygments_lexer": "ipython3",
   "version": "3.9.7"
  }
 },
 "nbformat": 4,
 "nbformat_minor": 5
}
